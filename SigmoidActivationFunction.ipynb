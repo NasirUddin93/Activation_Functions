{
 "cells": [
  {
   "cell_type": "code",
   "execution_count": 1,
   "id": "01373630-6dd9-4d43-8b3c-c540ec4fae9e",
   "metadata": {},
   "outputs": [],
   "source": [
    "import math\n",
    "import numpy as np\n",
    "import matplotlib.pyplot as plt\n",
    "%matplotlib inline"
   ]
  },
  {
   "cell_type": "code",
   "execution_count": 2,
   "id": "01e74acf-9663-468d-8ebe-89cef51fb78f",
   "metadata": {},
   "outputs": [],
   "source": [
    "def sigmoidFunction(number):\n",
    "    #binary activation function \n",
    "    sigmoidDataStore = []\n",
    "    for i in number:\n",
    "        each_result = 1 / (1 + math.exp(-i))\n",
    "        result = 1 / (1 + np.exp(-i))\n",
    "        #1/(1 + e^-x)\n",
    "        sigmoidDataStore.append(each_result)\n",
    "    return sigmoidDataStore"
   ]
  },
  {
   "cell_type": "code",
   "execution_count": 3,
   "id": "fce459c4-0831-4766-89ab-06efce1495c9",
   "metadata": {},
   "outputs": [
    {
     "data": {
      "image/png": "[encoded data removed]",
      "text/plain": [
       "<Figure size 432x288 with 1 Axes>"
      ]
     },
     "metadata": {
      "needs_background": "light"
     },
     "output_type": "display_data"
    }
   ],
   "source": [
    "randomMNumber = np.arange(-20.0,20.0,0.2)\n",
    "sigmoid_plot = sigmoidFunction(randomMNumber)\n",
    "plt.plot(randomMNumber,sigmoid_plot)\n",
    "ax = plt.gca()\n",
    "plt.show()"
   ]
  },
  {
   "cell_type": "code",
   "execution_count": null,
   "id": "88423752-5dd7-45ae-99f8-84fa57a29e7a",
   "metadata": {},
   "outputs": [],
   "source": []
  }
 ],
 "metadata": {
  "kernelspec": {
   "display_name": "Python 3 (ipykernel)",
   "language": "python",
   "name": "python3"
  },
  "language_info": {
   "codemirror_mode": {
    "name": "ipython",
    "version": 3
   },
   "file_extension": ".py",
   "mimetype": "text/x-python",
   "name": "python",
   "nbconvert_exporter": "python",
   "pygments_lexer": "ipython3",
   "version": "3.9.12"
  }
 },
 "nbformat": 4,
 "nbformat_minor": 5
}
