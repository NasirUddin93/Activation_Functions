{
 "cells": [
  {
   "cell_type": "code",
   "execution_count": 1,
   "id": "f9f68164-e820-445f-bf10-2876b4c87914",
   "metadata": {},
   "outputs": [],
   "source": [
    "import math\n",
    "import numpy as np\n",
    "import matplotlib.pyplot as plt\n",
    "%matplotlib inline"
   ]
  },
  {
   "cell_type": "code",
   "execution_count": 2,
   "id": "313bae46-51d3-4595-ac71-f7f8879c99b7",
   "metadata": {},
   "outputs": [],
   "source": [
    "def TanhActivationFunction(number):\n",
    "    #binary activation function \n",
    "    tanhvalue = []\n",
    "    for i in number:\n",
    "        tanhvalue.append(math.tanh(i))\n",
    "    return tanhvalue"
   ]
  },
  {
   "cell_type": "code",
   "execution_count": 3,
   "id": "6daf3afe-7493-425f-bbea-b86cba3b152c",
   "metadata": {},
   "outputs": [
    {
     "data": {
      "image/png": "[encoded data removed]",
      "text/plain": [
       "<Figure size 432x288 with 1 Axes>"
      ]
     },
     "metadata": {
      "needs_background": "light"
     },
     "output_type": "display_data"
    }
   ],
   "source": [
    "randomMNumber = np.arange(-20.0,20.0,0.2)\n",
    "tanhPlot = TanhActivationFunction(randomMNumber)\n",
    "plt.plot(randomMNumber,tanhPlot)\n",
    "ax = plt.gca()\n",
    "plt.show()"
   ]
  },
  {
   "cell_type": "code",
   "execution_count": null,
   "id": "b7431d94-ae41-472a-94c0-7821ee6f1590",
   "metadata": {},
   "outputs": [],
   "source": []
  },
  {
   "cell_type": "code",
   "execution_count": null,
   "id": "38ea7d50-cb0c-4826-a4b8-e60652cb7d50",
   "metadata": {},
   "outputs": [],
   "source": []
  },
  {
   "cell_type": "code",
   "execution_count": null,
   "id": "34aeea08-ff67-4746-907f-8f05f2a5c029",
   "metadata": {},
   "outputs": [],
   "source": []
  }
 ],
 "metadata": {
  "kernelspec": {
   "display_name": "Python 3 (ipykernel)",
   "language": "python",
   "name": "python3"
  },
  "language_info": {
   "codemirror_mode": {
    "name": "ipython",
    "version": 3
   },
   "file_extension": ".py",
   "mimetype": "text/x-python",
   "name": "python",
   "nbconvert_exporter": "python",
   "pygments_lexer": "ipython3",
   "version": "3.9.12"
  }
 },
 "nbformat": 4,
 "nbformat_minor": 5
}
