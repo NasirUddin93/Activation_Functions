{
 "cells": [
  {
   "cell_type": "code",
   "execution_count": 1,
   "id": "c68aaee6-13db-46a6-ac10-805419d0615c",
   "metadata": {},
   "outputs": [],
   "source": [
    "import math\n",
    "import numpy as np\n",
    "import matplotlib.pyplot as plt\n",
    "%matplotlib inline"
   ]
  },
  {
   "cell_type": "code",
   "execution_count": 6,
   "id": "d66b3a19-1ee9-485e-b966-dd9adc76470d",
   "metadata": {},
   "outputs": [],
   "source": [
    "def activation_value(number):\n",
    "    expValue = np.exp(number)\n",
    "    return expValue / expValue.sum()"
   ]
  },
  {
   "cell_type": "code",
   "execution_count": 7,
   "id": "e8233e1a-7d53-4c13-8556-d438cbec74a2",
   "metadata": {},
   "outputs": [],
   "source": [
    "a = [0,1,2,3,4,5] # probability distribution"
   ]
  },
  {
   "cell_type": "code",
   "execution_count": 8,
   "id": "446f6c47-fcd5-47e8-9636-b10eacb5144a",
   "metadata": {},
   "outputs": [],
   "source": [
    "activation_value = softmaxActivationFunction(a)"
   ]
  },
  {
   "cell_type": "code",
   "execution_count": 11,
   "id": "e456809e-71d5-4267-b5a6-185bca3aece4",
   "metadata": {},
   "outputs": [
    {
     "data": {
      "text/plain": [
       "array([0.00426978, 0.01160646, 0.03154963, 0.08576079, 0.23312201,\n",
       "       0.63369132])"
      ]
     },
     "execution_count": 11,
     "metadata": {},
     "output_type": "execute_result"
    }
   ],
   "source": [
    "activation_value"
   ]
  },
  {
   "cell_type": "code",
   "execution_count": 10,
   "id": "3d461b3c-c5a0-4346-8de1-ac2b3619d7c8",
   "metadata": {},
   "outputs": [
    {
     "data": {
      "text/plain": [
       "1.0"
      ]
     },
     "execution_count": 10,
     "metadata": {},
     "output_type": "execute_result"
    }
   ],
   "source": [
    "np.sum(activation_value)"
   ]
  },
  {
   "cell_type": "code",
   "execution_count": 13,
   "id": "c1b895ca-e9be-46b6-8a4f-2f56134ef363",
   "metadata": {},
   "outputs": [
    {
     "data": {
      "image/png": "[encoded data removed]",
      "text/plain": [
       "<Figure size 432x288 with 1 Axes>"
      ]
     },
     "metadata": {
      "needs_background": "light"
     },
     "output_type": "display_data"
    }
   ],
   "source": [
    "plt.plot(a,activation_value)\n",
    "ax = plt.gca()\n",
    "plt.show()"
   ]
  },
  {
   "cell_type": "code",
   "execution_count": null,
   "id": "cd360e5b-8067-4326-a74e-2ad09f947aae",
   "metadata": {},
   "outputs": [],
   "source": []
  }
 ],
 "metadata": {
  "kernelspec": {
   "display_name": "Python 3 (ipykernel)",
   "language": "python",
   "name": "python3"
  },
  "language_info": {
   "codemirror_mode": {
    "name": "ipython",
    "version": 3
   },
   "file_extension": ".py",
   "mimetype": "text/x-python",
   "name": "python",
   "nbconvert_exporter": "python",
   "pygments_lexer": "ipython3",
   "version": "3.9.12"
  }
 },
 "nbformat": 4,
 "nbformat_minor": 5
}
